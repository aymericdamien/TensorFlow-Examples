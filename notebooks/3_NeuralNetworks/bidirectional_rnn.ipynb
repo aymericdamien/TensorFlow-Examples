{
 "cells": [
  {
   "cell_type": "markdown",
   "metadata": {
    "collapsed": true,
    "deletable": true,
    "editable": true
   },
   "source": [
    "'''\n",
    "A Bidirectional Reccurent Neural Network (LSTM) implementation example using TensorFlow library.\n",
    "This example is using the MNIST database of handwritten digits (http://yann.lecun.com/exdb/mnist/)\n",
    "Long Short Term Memory paper: http://deeplearning.cs.cmu.edu/pdfs/Hochreiter97_lstm.pdf\n",
    "\n",
    "Author: Aymeric Damien\n",
    "Project: https://github.com/aymericdamien/TensorFlow-Examples/\n",
    "'''"
   ]
  },
  {
   "cell_type": "code",
   "execution_count": 1,
   "metadata": {
    "collapsed": false,
    "deletable": true,
    "editable": true
   },
   "outputs": [
    {
     "name": "stdout",
     "output_type": "stream",
     "text": [
      "Extracting MNIST_data/train-images-idx3-ubyte.gz\n",
      "Extracting MNIST_data/train-labels-idx1-ubyte.gz\n",
      "Extracting MNIST_data/t10k-images-idx3-ubyte.gz\n",
      "Extracting MNIST_data/t10k-labels-idx1-ubyte.gz\n"
     ]
    }
   ],
   "source": [
    "import tensorflow as tf\n",
    "from tensorflow.contrib import rnn\n",
    "import numpy as np\n",
    "\n",
    "# Import MINST data\n",
    "from tensorflow.examples.tutorials.mnist import input_data\n",
    "mnist = input_data.read_data_sets(\"MNIST_data/\", one_hot=True)"
   ]
  },
  {
   "cell_type": "markdown",
   "metadata": {
    "collapsed": true,
    "deletable": true,
    "editable": true
   },
   "source": [
    "'''\n",
    "To classify images using a bidirectional reccurent neural network, we consider\n",
    "every image row as a sequence of pixels. Because MNIST image shape is 28*28px,\n",
    "we will then handle 28 sequences of 28 steps for every sample.\n",
    "'''"
   ]
  },
  {
   "cell_type": "code",
   "execution_count": 2,
   "metadata": {
    "collapsed": true,
    "deletable": true,
    "editable": true
   },
   "outputs": [],
   "source": [
    "# Parameters\n",
    "learning_rate = 0.001\n",
    "training_iters = 100000\n",
    "batch_size = 128\n",
    "display_step = 10\n",
    "\n",
    "# Network Parameters\n",
    "n_input = 28 # MNIST data input (img shape: 28*28)\n",
    "n_steps = 28 # timesteps\n",
    "n_hidden = 128 # hidden layer num of features\n",
    "n_classes = 10 # MNIST total classes (0-9 digits)\n",
    "\n",
    "# tf Graph input\n",
    "x = tf.placeholder(\"float\", [None, n_steps, n_input])\n",
    "y = tf.placeholder(\"float\", [None, n_classes])\n",
    "\n",
    "# Define weights\n",
    "weights = {\n",
    "    # Hidden layer weights => 2*n_hidden because of foward + backward cells\n",
    "    'out': tf.Variable(tf.random_normal([2*n_hidden, n_classes]))\n",
    "}\n",
    "biases = {\n",
    "    'out': tf.Variable(tf.random_normal([n_classes]))\n",
    "}"
   ]
  },
  {
   "cell_type": "code",
   "execution_count": 3,
   "metadata": {
    "collapsed": false,
    "deletable": true,
    "editable": true
   },
   "outputs": [],
   "source": [
    "def BiRNN(x, weights, biases):\n",
    "\n",
    "    # Prepare data shape to match `bidirectional_rnn` function requirements\n",
    "    # Current data input shape: (batch_size, n_steps, n_input)\n",
    "    # Required shape: 'n_steps' tensors list of shape (batch_size, n_input)\n",
    "    \n",
    "    # Unstack to get a list of 'n_steps' tensors of shape (batch_size, n_input)\n",
    "    x = tf.unstack(x, n_steps, 1)\n",
    "\n",
    "    # Define lstm cells with tensorflow\n",
    "    # Forward direction cell\n",
    "    lstm_fw_cell = rnn.BasicLSTMCell(n_hidden, forget_bias=1.0)\n",
    "    # Backward direction cell\n",
    "    lstm_bw_cell = rnn.BasicLSTMCell(n_hidden, forget_bias=1.0)\n",
    "\n",
    "    # Get lstm cell output\n",
    "    try:\n",
    "        outputs, _, _ = rnn.static_bidirectional_rnn(lstm_fw_cell, lstm_bw_cell, x,\n",
    "                                              dtype=tf.float32)\n",
    "    except Exception: # Old TensorFlow version only returns outputs not states\n",
    "        outputs = rnn.static_bidirectional_rnn(lstm_fw_cell, lstm_bw_cell, x,\n",
    "                                        dtype=tf.float32)\n",
    "\n",
    "    # Linear activation, using rnn inner loop last output\n",
    "    return tf.matmul(outputs[-1], weights['out']) + biases['out']\n",
    "\n",
    "pred = BiRNN(x, weights, biases)\n",
    "\n",
    "# Define loss and optimizer\n",
    "cost = tf.reduce_mean(tf.nn.softmax_cross_entropy_with_logits(logits=pred, labels=y))\n",
    "optimizer = tf.train.AdamOptimizer(learning_rate=learning_rate).minimize(cost)\n",
    "\n",
    "# Evaluate model\n",
    "correct_pred = tf.equal(tf.argmax(pred,1), tf.argmax(y,1))\n",
    "accuracy = tf.reduce_mean(tf.cast(correct_pred, tf.float32))\n",
    "\n",
    "# Initializing the variables\n",
    "init = tf.global_variables_initializer()"
   ]
  },
  {
   "cell_type": "code",
   "execution_count": 4,
   "metadata": {
    "collapsed": false,
    "deletable": true,
    "editable": true
   },
   "outputs": [
    {
     "name": "stdout",
     "output_type": "stream",
     "text": [
      "Iter 1280, Minibatch Loss= 2.008752, Training Accuracy= 0.36719\n",
      "Iter 2560, Minibatch Loss= 1.788936, Training Accuracy= 0.40625\n",
      "Iter 3840, Minibatch Loss= 1.270734, Training Accuracy= 0.54688\n",
      "Iter 5120, Minibatch Loss= 1.025236, Training Accuracy= 0.67969\n",
      "Iter 6400, Minibatch Loss= 0.897404, Training Accuracy= 0.66406\n",
      "Iter 7680, Minibatch Loss= 1.164463, Training Accuracy= 0.62500\n",
      "Iter 8960, Minibatch Loss= 0.903352, Training Accuracy= 0.70312\n",
      "Iter 10240, Minibatch Loss= 0.664629, Training Accuracy= 0.73438\n",
      "Iter 11520, Minibatch Loss= 0.441428, Training Accuracy= 0.86719\n",
      "Iter 12800, Minibatch Loss= 0.772549, Training Accuracy= 0.75000\n",
      "Iter 14080, Minibatch Loss= 0.619254, Training Accuracy= 0.82031\n",
      "Iter 15360, Minibatch Loss= 0.378821, Training Accuracy= 0.87500\n",
      "Iter 16640, Minibatch Loss= 0.543646, Training Accuracy= 0.85156\n",
      "Iter 17920, Minibatch Loss= 0.328417, Training Accuracy= 0.89844\n",
      "Iter 19200, Minibatch Loss= 0.330451, Training Accuracy= 0.87500\n",
      "Iter 20480, Minibatch Loss= 0.208774, Training Accuracy= 0.92969\n",
      "Iter 21760, Minibatch Loss= 0.480265, Training Accuracy= 0.85156\n",
      "Iter 23040, Minibatch Loss= 0.151229, Training Accuracy= 0.96875\n",
      "Iter 24320, Minibatch Loss= 0.402321, Training Accuracy= 0.86719\n",
      "Iter 25600, Minibatch Loss= 0.408936, Training Accuracy= 0.88281\n",
      "Iter 26880, Minibatch Loss= 0.314651, Training Accuracy= 0.89062\n",
      "Iter 28160, Minibatch Loss= 0.328565, Training Accuracy= 0.89062\n",
      "Iter 29440, Minibatch Loss= 0.354461, Training Accuracy= 0.88281\n",
      "Iter 30720, Minibatch Loss= 0.280650, Training Accuracy= 0.91406\n",
      "Iter 32000, Minibatch Loss= 0.190045, Training Accuracy= 0.91406\n",
      "Iter 33280, Minibatch Loss= 0.274487, Training Accuracy= 0.91406\n",
      "Iter 34560, Minibatch Loss= 0.310440, Training Accuracy= 0.92188\n",
      "Iter 35840, Minibatch Loss= 0.234142, Training Accuracy= 0.91406\n",
      "Iter 37120, Minibatch Loss= 0.363260, Training Accuracy= 0.89844\n",
      "Iter 38400, Minibatch Loss= 0.180354, Training Accuracy= 0.92969\n",
      "Iter 39680, Minibatch Loss= 0.142613, Training Accuracy= 0.96094\n",
      "Iter 40960, Minibatch Loss= 0.356987, Training Accuracy= 0.85938\n",
      "Iter 42240, Minibatch Loss= 0.180724, Training Accuracy= 0.95312\n",
      "Iter 43520, Minibatch Loss= 0.132087, Training Accuracy= 0.94531\n",
      "Iter 44800, Minibatch Loss= 0.200464, Training Accuracy= 0.94531\n",
      "Iter 46080, Minibatch Loss= 0.167585, Training Accuracy= 0.95312\n",
      "Iter 47360, Minibatch Loss= 0.277518, Training Accuracy= 0.91406\n",
      "Iter 48640, Minibatch Loss= 0.288339, Training Accuracy= 0.92188\n",
      "Iter 49920, Minibatch Loss= 0.247624, Training Accuracy= 0.91406\n",
      "Iter 51200, Minibatch Loss= 0.112300, Training Accuracy= 0.97656\n",
      "Iter 52480, Minibatch Loss= 0.160421, Training Accuracy= 0.93750\n",
      "Iter 53760, Minibatch Loss= 0.059687, Training Accuracy= 0.97656\n",
      "Iter 55040, Minibatch Loss= 0.258771, Training Accuracy= 0.91406\n",
      "Iter 56320, Minibatch Loss= 0.231804, Training Accuracy= 0.91406\n",
      "Iter 57600, Minibatch Loss= 0.187057, Training Accuracy= 0.91406\n",
      "Iter 58880, Minibatch Loss= 0.200808, Training Accuracy= 0.92969\n",
      "Iter 60160, Minibatch Loss= 0.135932, Training Accuracy= 0.98438\n",
      "Iter 61440, Minibatch Loss= 0.139161, Training Accuracy= 0.95312\n",
      "Iter 62720, Minibatch Loss= 0.179977, Training Accuracy= 0.93750\n",
      "Iter 64000, Minibatch Loss= 0.258534, Training Accuracy= 0.89062\n",
      "Iter 65280, Minibatch Loss= 0.142833, Training Accuracy= 0.94531\n",
      "Iter 66560, Minibatch Loss= 0.287655, Training Accuracy= 0.92969\n",
      "Iter 67840, Minibatch Loss= 0.090211, Training Accuracy= 0.97656\n",
      "Iter 69120, Minibatch Loss= 0.217823, Training Accuracy= 0.92969\n",
      "Iter 70400, Minibatch Loss= 0.174253, Training Accuracy= 0.95312\n",
      "Iter 71680, Minibatch Loss= 0.201803, Training Accuracy= 0.92969\n",
      "Iter 72960, Minibatch Loss= 0.115368, Training Accuracy= 0.97656\n",
      "Iter 74240, Minibatch Loss= 0.233834, Training Accuracy= 0.93750\n",
      "Iter 75520, Minibatch Loss= 0.093842, Training Accuracy= 0.96875\n",
      "Iter 76800, Minibatch Loss= 0.150156, Training Accuracy= 0.94531\n",
      "Iter 78080, Minibatch Loss= 0.056958, Training Accuracy= 0.97656\n",
      "Iter 79360, Minibatch Loss= 0.088401, Training Accuracy= 0.97656\n",
      "Iter 80640, Minibatch Loss= 0.159939, Training Accuracy= 0.92188\n",
      "Iter 81920, Minibatch Loss= 0.074285, Training Accuracy= 0.98438\n",
      "Iter 83200, Minibatch Loss= 0.183445, Training Accuracy= 0.95312\n",
      "Iter 84480, Minibatch Loss= 0.148313, Training Accuracy= 0.97656\n",
      "Iter 85760, Minibatch Loss= 0.112727, Training Accuracy= 0.96875\n",
      "Iter 87040, Minibatch Loss= 0.084426, Training Accuracy= 0.96875\n",
      "Iter 88320, Minibatch Loss= 0.087064, Training Accuracy= 0.96875\n",
      "Iter 89600, Minibatch Loss= 0.073363, Training Accuracy= 0.97656\n",
      "Iter 90880, Minibatch Loss= 0.180447, Training Accuracy= 0.94531\n",
      "Iter 92160, Minibatch Loss= 0.041349, Training Accuracy= 0.98438\n",
      "Iter 93440, Minibatch Loss= 0.055157, Training Accuracy= 0.97656\n",
      "Iter 94720, Minibatch Loss= 0.084956, Training Accuracy= 0.98438\n",
      "Iter 96000, Minibatch Loss= 0.108570, Training Accuracy= 0.95312\n",
      "Iter 97280, Minibatch Loss= 0.084105, Training Accuracy= 0.96875\n",
      "Iter 98560, Minibatch Loss= 0.247756, Training Accuracy= 0.92969\n",
      "Iter 99840, Minibatch Loss= 0.151855, Training Accuracy= 0.94531\n",
      "Optimization Finished!\n",
      "Testing Accuracy: 0.984375\n"
     ]
    }
   ],
   "source": [
    "# Launch the graph\n",
    "with tf.Session() as sess:\n",
    "    sess.run(init)\n",
    "    step = 1\n",
    "    # Keep training until reach max iterations\n",
    "    while step * batch_size < training_iters:\n",
    "        batch_x, batch_y = mnist.train.next_batch(batch_size)\n",
    "        # Reshape data to get 28 seq of 28 elements\n",
    "        batch_x = batch_x.reshape((batch_size, n_steps, n_input))\n",
    "        # Run optimization op (backprop)\n",
    "        sess.run(optimizer, feed_dict={x: batch_x, y: batch_y})\n",
    "        if step % display_step == 0:\n",
    "            # Calculate batch accuracy\n",
    "            acc = sess.run(accuracy, feed_dict={x: batch_x, y: batch_y})\n",
    "            # Calculate batch loss\n",
    "            loss = sess.run(cost, feed_dict={x: batch_x, y: batch_y})\n",
    "            print (\"Iter \" + str(step*batch_size) + \", Minibatch Loss= \" + \\\n",
    "                  \"{:.6f}\".format(loss) + \", Training Accuracy= \" + \\\n",
    "                  \"{:.5f}\".format(acc))\n",
    "        step += 1\n",
    "    print (\"Optimization Finished!\")\n",
    "\n",
    "    # Calculate accuracy for 128 mnist test images\n",
    "    test_len = 128\n",
    "    test_data = mnist.test.images[:test_len].reshape((-1, n_steps, n_input))\n",
    "    test_label = mnist.test.labels[:test_len]\n",
    "    print (\"Testing Accuracy:\", \\\n",
    "        sess.run(accuracy, feed_dict={x: test_data, y: test_label}))"
   ]
  }
 ],
 "metadata": {
  "kernelspec": {
   "display_name": "Python 3",
   "language": "python",
   "name": "python3"
  },
  "language_info": {
   "codemirror_mode": {
    "name": "ipython",
    "version": 3
   },
   "file_extension": ".py",
   "mimetype": "text/x-python",
   "name": "python",
   "nbconvert_exporter": "python",
   "pygments_lexer": "ipython3",
   "version": "3.6.0"
  }
 },
 "nbformat": 4,
 "nbformat_minor": 0
}
