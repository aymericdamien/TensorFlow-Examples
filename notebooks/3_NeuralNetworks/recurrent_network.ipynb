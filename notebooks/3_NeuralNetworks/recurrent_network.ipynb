{
 "cells": [
  {
   "cell_type": "markdown",
   "metadata": {
    "collapsed": true
   },
   "source": [
    "'''\n",
    "A Reccurent Neural Network (LSTM) implementation example using TensorFlow library.\n",
    "This example is using the MNIST database of handwritten digits (http://yann.lecun.com/exdb/mnist/)\n",
    "Long Short Term Memory paper: http://deeplearning.cs.cmu.edu/pdfs/Hochreiter97_lstm.pdf\n",
    "\n",
    "Author: Aymeric Damien\n",
    "Project: https://github.com/aymericdamien/TensorFlow-Examples/\n",
    "'''"
   ]
  },
  {
   "cell_type": "code",
   "execution_count": null,
   "metadata": {
    "collapsed": false
   },
   "outputs": [],
   "source": [
    "import tensorflow as tf\n",
    "from tensorflow.contrib import rnn\n",
    "import numpy as np\n",
    "\n",
    "# Import MINST data\n",
    "from tensorflow.examples.tutorials.mnist import input_data\n",
    "mnist = input_data.read_data_sets(\"MNIST_data/\", one_hot=True)"
   ]
  },
  {
   "cell_type": "markdown",
   "metadata": {
    "collapsed": true
   },
   "source": [
    "'''\n",
    "To classify images using a reccurent neural network, we consider every image\n",
    "row as a sequence of pixels. Because MNIST image shape is 28*28px, we will then\n",
    "handle 28 sequences of 28 steps for every sample.\n",
    "'''"
   ]
  },
  {
   "cell_type": "code",
   "execution_count": 2,
   "metadata": {
    "collapsed": false
   },
   "outputs": [],
   "source": [
    "# Parameters\n",
    "learning_rate = 0.001\n",
    "training_iters = 100000\n",
    "batch_size = 128\n",
    "display_step = 10\n",
    "\n",
    "# Network Parameters\n",
    "n_input = 28 # MNIST data input (img shape: 28*28)\n",
    "n_steps = 28 # timesteps\n",
    "n_hidden = 128 # hidden layer num of features\n",
    "n_classes = 10 # MNIST total classes (0-9 digits)\n",
    "\n",
    "# tf Graph input\n",
    "x = tf.placeholder(\"float\", [None, n_steps, n_input])\n",
    "y = tf.placeholder(\"float\", [None, n_classes])\n",
    "\n",
    "# Define weights\n",
    "weights = {\n",
    "    'out': tf.Variable(tf.random_normal([n_hidden, n_classes]))\n",
    "}\n",
    "biases = {\n",
    "    'out': tf.Variable(tf.random_normal([n_classes]))\n",
    "}"
   ]
  },
  {
   "cell_type": "code",
   "execution_count": 3,
   "metadata": {
    "collapsed": false
   },
   "outputs": [],
   "source": [
    "def RNN(x, weights, biases):\n",
    "\n",
    "    # Prepare data shape to match `rnn` function requirements\n",
    "    # Current data input shape: (batch_size, n_steps, n_input)\n",
    "    # Required shape: 'n_steps' tensors list of shape (batch_size, n_input)\n",
    "    \n",
    "    # Unstack to get a list of 'n_steps' tensors of shape (batch_size, n_input)\n",
    "    x = tf.unstack(x, n_steps, 1)\n",
    "\n",
    "    # Define a lstm cell with tensorflow\n",
    "    lstm_cell = rnn.BasicLSTMCell(n_hidden, forget_bias=1.0)\n",
    "\n",
    "    # Get lstm cell output\n",
    "    outputs, states = rnn.static_rnn(lstm_cell, x, dtype=tf.float32)\n",
    "\n",
    "    # Linear activation, using rnn inner loop last output\n",
    "    return tf.matmul(outputs[-1], weights['out']) + biases['out']\n",
    "\n",
    "pred = RNN(x, weights, biases)\n",
    "\n",
    "# Define loss and optimizer\n",
    "cost = tf.reduce_mean(tf.nn.softmax_cross_entropy_with_logits(logits=pred, labels=y))\n",
    "optimizer = tf.train.AdamOptimizer(learning_rate=learning_rate).minimize(cost)\n",
    "\n",
    "# Evaluate model\n",
    "correct_pred = tf.equal(tf.argmax(pred,1), tf.argmax(y,1))\n",
    "accuracy = tf.reduce_mean(tf.cast(correct_pred, tf.float32))\n",
    "\n",
    "# Initializing the variables\n",
    "init = tf.global_variables_initializer()"
   ]
  },
  {
   "cell_type": "code",
   "execution_count": 4,
   "metadata": {
    "collapsed": false
   },
   "outputs": [
    {
     "name": "stdout",
     "output_type": "stream",
     "text": [
      "Iter 1280, Minibatch Loss= 1.576423, Training Accuracy= 0.51562\n",
      "Iter 2560, Minibatch Loss= 1.450179, Training Accuracy= 0.53906\n",
      "Iter 3840, Minibatch Loss= 1.160066, Training Accuracy= 0.64844\n",
      "Iter 5120, Minibatch Loss= 0.898589, Training Accuracy= 0.73438\n",
      "Iter 6400, Minibatch Loss= 0.685712, Training Accuracy= 0.75781\n",
      "Iter 7680, Minibatch Loss= 1.085666, Training Accuracy= 0.64844\n",
      "Iter 8960, Minibatch Loss= 0.681488, Training Accuracy= 0.73438\n",
      "Iter 10240, Minibatch Loss= 0.557049, Training Accuracy= 0.82812\n",
      "Iter 11520, Minibatch Loss= 0.340857, Training Accuracy= 0.92188\n",
      "Iter 12800, Minibatch Loss= 0.596482, Training Accuracy= 0.78906\n",
      "Iter 14080, Minibatch Loss= 0.486564, Training Accuracy= 0.84375\n",
      "Iter 15360, Minibatch Loss= 0.302493, Training Accuracy= 0.90625\n",
      "Iter 16640, Minibatch Loss= 0.334277, Training Accuracy= 0.92188\n",
      "Iter 17920, Minibatch Loss= 0.222026, Training Accuracy= 0.90625\n",
      "Iter 19200, Minibatch Loss= 0.228581, Training Accuracy= 0.92188\n",
      "Iter 20480, Minibatch Loss= 0.150356, Training Accuracy= 0.96094\n",
      "Iter 21760, Minibatch Loss= 0.415417, Training Accuracy= 0.86719\n",
      "Iter 23040, Minibatch Loss= 0.159742, Training Accuracy= 0.94531\n",
      "Iter 24320, Minibatch Loss= 0.333764, Training Accuracy= 0.89844\n",
      "Iter 25600, Minibatch Loss= 0.379070, Training Accuracy= 0.88281\n",
      "Iter 26880, Minibatch Loss= 0.241612, Training Accuracy= 0.91406\n",
      "Iter 28160, Minibatch Loss= 0.200397, Training Accuracy= 0.93750\n",
      "Iter 29440, Minibatch Loss= 0.197994, Training Accuracy= 0.93750\n",
      "Iter 30720, Minibatch Loss= 0.330214, Training Accuracy= 0.89062\n",
      "Iter 32000, Minibatch Loss= 0.174626, Training Accuracy= 0.92969\n",
      "Iter 33280, Minibatch Loss= 0.202369, Training Accuracy= 0.93750\n",
      "Iter 34560, Minibatch Loss= 0.240835, Training Accuracy= 0.94531\n",
      "Iter 35840, Minibatch Loss= 0.207867, Training Accuracy= 0.93750\n",
      "Iter 37120, Minibatch Loss= 0.313306, Training Accuracy= 0.90625\n",
      "Iter 38400, Minibatch Loss= 0.089850, Training Accuracy= 0.96875\n",
      "Iter 39680, Minibatch Loss= 0.184803, Training Accuracy= 0.92188\n",
      "Iter 40960, Minibatch Loss= 0.236523, Training Accuracy= 0.92969\n",
      "Iter 42240, Minibatch Loss= 0.174834, Training Accuracy= 0.94531\n",
      "Iter 43520, Minibatch Loss= 0.127905, Training Accuracy= 0.93750\n",
      "Iter 44800, Minibatch Loss= 0.120045, Training Accuracy= 0.96875\n",
      "Iter 46080, Minibatch Loss= 0.068337, Training Accuracy= 0.98438\n",
      "Iter 47360, Minibatch Loss= 0.141118, Training Accuracy= 0.95312\n",
      "Iter 48640, Minibatch Loss= 0.182404, Training Accuracy= 0.92188\n",
      "Iter 49920, Minibatch Loss= 0.176778, Training Accuracy= 0.93750\n",
      "Iter 51200, Minibatch Loss= 0.098927, Training Accuracy= 0.97656\n",
      "Iter 52480, Minibatch Loss= 0.158776, Training Accuracy= 0.96094\n",
      "Iter 53760, Minibatch Loss= 0.031863, Training Accuracy= 0.99219\n",
      "Iter 55040, Minibatch Loss= 0.101799, Training Accuracy= 0.96094\n",
      "Iter 56320, Minibatch Loss= 0.176387, Training Accuracy= 0.96094\n",
      "Iter 57600, Minibatch Loss= 0.096277, Training Accuracy= 0.96875\n",
      "Iter 58880, Minibatch Loss= 0.137416, Training Accuracy= 0.94531\n",
      "Iter 60160, Minibatch Loss= 0.062801, Training Accuracy= 0.97656\n",
      "Iter 61440, Minibatch Loss= 0.036346, Training Accuracy= 0.98438\n",
      "Iter 62720, Minibatch Loss= 0.153030, Training Accuracy= 0.92969\n",
      "Iter 64000, Minibatch Loss= 0.117716, Training Accuracy= 0.95312\n",
      "Iter 65280, Minibatch Loss= 0.048387, Training Accuracy= 0.99219\n",
      "Iter 66560, Minibatch Loss= 0.070802, Training Accuracy= 0.97656\n",
      "Iter 67840, Minibatch Loss= 0.221085, Training Accuracy= 0.96875\n",
      "Iter 69120, Minibatch Loss= 0.184049, Training Accuracy= 0.93750\n",
      "Iter 70400, Minibatch Loss= 0.094883, Training Accuracy= 0.95312\n",
      "Iter 71680, Minibatch Loss= 0.087278, Training Accuracy= 0.96875\n",
      "Iter 72960, Minibatch Loss= 0.153267, Training Accuracy= 0.95312\n",
      "Iter 74240, Minibatch Loss= 0.161794, Training Accuracy= 0.94531\n",
      "Iter 75520, Minibatch Loss= 0.103779, Training Accuracy= 0.96875\n",
      "Iter 76800, Minibatch Loss= 0.165586, Training Accuracy= 0.96094\n",
      "Iter 78080, Minibatch Loss= 0.137721, Training Accuracy= 0.95312\n",
      "Iter 79360, Minibatch Loss= 0.124014, Training Accuracy= 0.96094\n",
      "Iter 80640, Minibatch Loss= 0.051460, Training Accuracy= 0.99219\n",
      "Iter 81920, Minibatch Loss= 0.185836, Training Accuracy= 0.96094\n",
      "Iter 83200, Minibatch Loss= 0.147694, Training Accuracy= 0.94531\n",
      "Iter 84480, Minibatch Loss= 0.061550, Training Accuracy= 0.98438\n",
      "Iter 85760, Minibatch Loss= 0.093457, Training Accuracy= 0.96875\n",
      "Iter 87040, Minibatch Loss= 0.094497, Training Accuracy= 0.98438\n",
      "Iter 88320, Minibatch Loss= 0.093934, Training Accuracy= 0.96094\n",
      "Iter 89600, Minibatch Loss= 0.061550, Training Accuracy= 0.96875\n",
      "Iter 90880, Minibatch Loss= 0.082452, Training Accuracy= 0.97656\n",
      "Iter 92160, Minibatch Loss= 0.087423, Training Accuracy= 0.97656\n",
      "Iter 93440, Minibatch Loss= 0.032694, Training Accuracy= 0.99219\n",
      "Iter 94720, Minibatch Loss= 0.069597, Training Accuracy= 0.97656\n",
      "Iter 96000, Minibatch Loss= 0.193636, Training Accuracy= 0.96094\n",
      "Iter 97280, Minibatch Loss= 0.134405, Training Accuracy= 0.96094\n",
      "Iter 98560, Minibatch Loss= 0.072992, Training Accuracy= 0.96875\n",
      "Iter 99840, Minibatch Loss= 0.041049, Training Accuracy= 0.99219\n",
      "Optimization Finished!\n",
      "Testing Accuracy: 0.960938\n"
     ]
    }
   ],
   "source": [
    "# Launch the graph\n",
    "with tf.Session() as sess:\n",
    "    sess.run(init)\n",
    "    step = 1\n",
    "    # Keep training until reach max iterations\n",
    "    while step * batch_size < training_iters:\n",
    "        batch_x, batch_y = mnist.train.next_batch(batch_size)\n",
    "        # Reshape data to get 28 seq of 28 elements\n",
    "        batch_x = batch_x.reshape((batch_size, n_steps, n_input))\n",
    "        # Run optimization op (backprop)\n",
    "        sess.run(optimizer, feed_dict={x: batch_x, y: batch_y})\n",
    "        if step % display_step == 0:\n",
    "            # Calculate batch accuracy\n",
    "            acc = sess.run(accuracy, feed_dict={x: batch_x, y: batch_y})\n",
    "            # Calculate batch loss\n",
    "            loss = sess.run(cost, feed_dict={x: batch_x, y: batch_y})\n",
    "            print \"Iter \" + str(step*batch_size) + \", Minibatch Loss= \" + \\\n",
    "                  \"{:.6f}\".format(loss) + \", Training Accuracy= \" + \\\n",
    "                  \"{:.5f}\".format(acc)\n",
    "        step += 1\n",
    "    print \"Optimization Finished!\"\n",
    "\n",
    "    # Calculate accuracy for 128 mnist test images\n",
    "    test_len = 128\n",
    "    test_data = mnist.test.images[:test_len].reshape((-1, n_steps, n_input))\n",
    "    test_label = mnist.test.labels[:test_len]\n",
    "    print \"Testing Accuracy:\", \\\n",
    "        sess.run(accuracy, feed_dict={x: test_data, y: test_label})"
   ]
  },
  {
   "cell_type": "code",
   "execution_count": null,
   "metadata": {
    "collapsed": true
   },
   "outputs": [],
   "source": []
  }
 ],
 "metadata": {
  "kernelspec": {
   "display_name": "Python 2",
   "language": "python",
   "name": "python2"
  },
  "language_info": {
   "codemirror_mode": {
    "name": "ipython",
    "version": 2
   },
   "file_extension": ".py",
   "mimetype": "text/x-python",
   "name": "python",
   "nbconvert_exporter": "python",
   "pygments_lexer": "ipython2",
   "version": "2.7.13"
  }
 },
 "nbformat": 4,
 "nbformat_minor": 0
}
